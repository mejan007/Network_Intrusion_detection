{
 "cells": [
  {
   "cell_type": "code",
   "execution_count": 1,
   "id": "cd3d7761-5f0d-4f35-831a-f56ee8142521",
   "metadata": {},
   "outputs": [],
   "source": [
    "from utils.preprocess_data_KDD_plus_test import create_pipeline_and_save_models\n",
    "import os"
   ]
  },
  {
   "cell_type": "code",
   "execution_count": 2,
   "id": "0a1a545d-88f7-40db-a70f-1f107cb7b658",
   "metadata": {},
   "outputs": [],
   "source": [
    "train_file_path = os.path.join('data','KDDTrain+.csv')\n",
    "save_folder = \"preprocessing_pipeline\""
   ]
  },
  {
   "cell_type": "code",
   "execution_count": 3,
   "id": "c2fcc58b-7eae-4b93-9454-09192849d015",
   "metadata": {},
   "outputs": [
    {
     "name": "stdout",
     "output_type": "stream",
     "text": [
      "Pipeline and models have been saved as pipeline.pkl and attack_label_encoder.pkl.\n"
     ]
    }
   ],
   "source": [
    "create_pipeline_and_save_models(train_file_path=train_file_path,save_folder = save_folder)"
   ]
  },
  {
   "cell_type": "code",
   "execution_count": null,
   "id": "a7d9a257-f87f-44ff-8e06-fbe09f47c771",
   "metadata": {},
   "outputs": [],
   "source": []
  }
 ],
 "metadata": {
  "kernelspec": {
   "display_name": "torch_env",
   "language": "python",
   "name": "python3"
  },
  "language_info": {
   "codemirror_mode": {
    "name": "ipython",
    "version": 3
   },
   "file_extension": ".py",
   "mimetype": "text/x-python",
   "name": "python",
   "nbconvert_exporter": "python",
   "pygments_lexer": "ipython3",
   "version": "3.12.3"
  }
 },
 "nbformat": 4,
 "nbformat_minor": 5
}
