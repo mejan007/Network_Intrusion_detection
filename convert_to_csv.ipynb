{
 "cells": [
  {
   "cell_type": "code",
   "execution_count": 6,
   "id": "7e3b3a12-585c-4f11-a235-fe66a30980de",
   "metadata": {},
   "outputs": [],
   "source": [
    "from utils.preprocess_data_KDD_plus_test import convert_data_to_csv\n",
    "import os"
   ]
  },
  {
   "cell_type": "code",
   "execution_count": 7,
   "id": "e084678b-1e76-4a7d-8b10-13310c11dded",
   "metadata": {},
   "outputs": [],
   "source": [
    "input_file_path = os.path.join(\"data\",\"KDDTest+.txt\")\n",
    "output_file_path = os.path.join(\"data\",\"KDDTest+.csv\")\n"
   ]
  },
  {
   "cell_type": "code",
   "execution_count": 8,
   "id": "98473d4e-1e0c-4eb6-81f0-45de0199728a",
   "metadata": {},
   "outputs": [
    {
     "name": "stdout",
     "output_type": "stream",
     "text": [
      "Data has been successfully saved to data/KDDTest+.csv.\n"
     ]
    }
   ],
   "source": [
    "convert_data_to_csv(input_file_path, output_file_path)"
   ]
  },
  {
   "cell_type": "code",
   "execution_count": 9,
   "id": "2ca23b14-97ef-4b1d-8447-469817d7290f",
   "metadata": {},
   "outputs": [],
   "source": [
    "input_file_path = os.path.join(\"data\",\"KDDTrain+.txt\")\n",
    "output_file_path = os.path.join(\"data\",\"KDDTrain+.csv\")\n"
   ]
  },
  {
   "cell_type": "code",
   "execution_count": 10,
   "id": "c9c3f217-9657-469d-997f-c423656b0058",
   "metadata": {},
   "outputs": [
    {
     "name": "stdout",
     "output_type": "stream",
     "text": [
      "Data has been successfully saved to data/KDDTrain+.csv.\n"
     ]
    }
   ],
   "source": [
    "convert_data_to_csv(input_file_path, output_file_path)"
   ]
  },
  {
   "cell_type": "code",
   "execution_count": null,
   "id": "8945c816-40f1-4b65-8278-4675756545a0",
   "metadata": {},
   "outputs": [],
   "source": []
  }
 ],
 "metadata": {
  "kernelspec": {
   "display_name": "py310tf2",
   "language": "python",
   "name": "py310tf2"
  },
  "language_info": {
   "codemirror_mode": {
    "name": "ipython",
    "version": 3
   },
   "file_extension": ".py",
   "mimetype": "text/x-python",
   "name": "python",
   "nbconvert_exporter": "python",
   "pygments_lexer": "ipython3",
   "version": "3.10.9"
  }
 },
 "nbformat": 4,
 "nbformat_minor": 5
}
