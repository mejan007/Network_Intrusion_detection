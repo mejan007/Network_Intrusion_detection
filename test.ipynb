{
 "cells": [
  {
   "cell_type": "code",
   "execution_count": 2,
   "metadata": {},
   "outputs": [
    {
     "name": "stdout",
     "output_type": "stream",
     "text": [
      "Epoch 1/5\n"
     ]
    },
    {
     "name": "stderr",
     "output_type": "stream",
     "text": [
      "Training [10/10]: 100%|████████████████████████████████████████████| 10/10 [00:00<00:00, 271.91it/s]\n"
     ]
    },
    {
     "name": "stdout",
     "output_type": "stream",
     "text": [
      "Epoch 1 Loss: 13.3353\n",
      "Epoch 2/5\n"
     ]
    },
    {
     "name": "stderr",
     "output_type": "stream",
     "text": [
      "Training [10/10]: 100%|████████████████████████████████████████████| 10/10 [00:00<00:00, 257.69it/s]\n"
     ]
    },
    {
     "name": "stdout",
     "output_type": "stream",
     "text": [
      "Epoch 2 Loss: 12.5364\n",
      "Epoch 3/5\n"
     ]
    },
    {
     "name": "stderr",
     "output_type": "stream",
     "text": [
      "Training [10/10]: 100%|████████████████████████████████████████████| 10/10 [00:00<00:00, 293.46it/s]\n"
     ]
    },
    {
     "name": "stdout",
     "output_type": "stream",
     "text": [
      "Epoch 3 Loss: 11.9919\n",
      "Epoch 4/5\n"
     ]
    },
    {
     "name": "stderr",
     "output_type": "stream",
     "text": [
      "Training [10/10]: 100%|████████████████████████████████████████████| 10/10 [00:00<00:00, 332.16it/s]\n"
     ]
    },
    {
     "name": "stdout",
     "output_type": "stream",
     "text": [
      "Epoch 4 Loss: 11.6190\n",
      "Epoch 5/5\n"
     ]
    },
    {
     "name": "stderr",
     "output_type": "stream",
     "text": [
      "Training [10/10]: 100%|████████████████████████████████████████████| 10/10 [00:00<00:00, 314.41it/s]"
     ]
    },
    {
     "name": "stdout",
     "output_type": "stream",
     "text": [
      "Epoch 5 Loss: 11.3626\n"
     ]
    },
    {
     "name": "stderr",
     "output_type": "stream",
     "text": [
      "\n"
     ]
    }
   ],
   "source": [
    "import torch\n",
    "import torch.nn as nn\n",
    "import torch.optim as optim\n",
    "from tqdm import tqdm\n",
    "\n",
    "# Example setup\n",
    "device = torch.device(\"cuda\" if torch.cuda.is_available() else \"cpu\")\n",
    "model = nn.Linear(10, 1).to(device)\n",
    "criterion = nn.MSELoss()\n",
    "optimizer = optim.SGD(model.parameters(), lr=0.01)\n",
    "\n",
    "# Dummy data\n",
    "inputs = torch.randn(1000, 10).to(device)\n",
    "targets = torch.randn(1000, 1).to(device)\n",
    "\n",
    "epochs = 5\n",
    "batch_size = 100\n",
    "total_batches = len(inputs) // batch_size\n",
    "\n",
    "# Training loop with concise tqdm\n",
    "for epoch in range(epochs):\n",
    "    epoch_loss = 0.0\n",
    "    print(f\"Epoch {epoch + 1}/{epochs}\")\n",
    "    progress_bar = tqdm(total=total_batches, desc=\"Training\", ncols=100, position=0)\n",
    "    \n",
    "    for batch_idx in range(total_batches):\n",
    "        # Batch preparation\n",
    "        start_idx = batch_idx * batch_size\n",
    "        end_idx = start_idx + batch_size\n",
    "        x_batch = inputs[start_idx:end_idx]\n",
    "        y_batch = targets[start_idx:end_idx]\n",
    "\n",
    "        # Forward pass\n",
    "        outputs = model(x_batch)\n",
    "        loss = criterion(outputs, y_batch)\n",
    "\n",
    "        # Backward pass\n",
    "        optimizer.zero_grad()\n",
    "        loss.backward()\n",
    "        optimizer.step()\n",
    "\n",
    "        # Accumulate loss\n",
    "        epoch_loss += loss.item()\n",
    "\n",
    "        # Update progress bar\n",
    "        progress_bar.update(1)\n",
    "        progress_bar.set_description(f\"Training [{batch_idx + 1}/{total_batches}]\")\n",
    "    \n",
    "    progress_bar.close()  # Close the bar for the epoch\n",
    "    print(f\"Epoch {epoch + 1} Loss: {epoch_loss:.4f}\")\n"
   ]
  },
  {
   "cell_type": "code",
   "execution_count": null,
   "metadata": {},
   "outputs": [],
   "source": []
  }
 ],
 "metadata": {
  "kernelspec": {
   "display_name": "torch_env",
   "language": "python",
   "name": "python3"
  },
  "language_info": {
   "codemirror_mode": {
    "name": "ipython",
    "version": 3
   },
   "file_extension": ".py",
   "mimetype": "text/x-python",
   "name": "python",
   "nbconvert_exporter": "python",
   "pygments_lexer": "ipython3",
   "version": "3.12.3"
  }
 },
 "nbformat": 4,
 "nbformat_minor": 2
}
